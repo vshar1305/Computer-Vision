{
 "cells": [
  {
   "cell_type": "markdown",
   "metadata": {},
   "source": [
    "**Vertical and Horizontal Image stacking**"
   ]
  },
  {
   "cell_type": "code",
   "execution_count": 15,
   "metadata": {},
   "outputs": [],
   "source": [
    "import cv2\n",
    "import numpy as np\n",
    "import os"
   ]
  },
  {
   "cell_type": "code",
   "execution_count": 16,
   "metadata": {},
   "outputs": [],
   "source": [
    "img = cv2.imread(r\"D:\\Computer-Vision\\Computer_Vision\\Images\\img.jpg\")\n",
    "re_img = cv2.resize(img,(400,300))\n",
    "cv2.imshow(\"Image_Window\",re_img)\n",
    "cv2.waitKey(0)\n",
    "cv2.destroyAllWindows()"
   ]
  },
  {
   "cell_type": "code",
   "execution_count": 14,
   "metadata": {},
   "outputs": [
    {
     "name": "stdout",
     "output_type": "stream",
     "text": [
      "[[[27 25 25]\n",
      "  [26 24 24]\n",
      "  [25 23 23]\n",
      "  ...\n",
      "  [24 21 23]\n",
      "  [24 21 23]\n",
      "  [24 21 23]]\n",
      "\n",
      " [[27 25 25]\n",
      "  [26 24 24]\n",
      "  [25 23 23]\n",
      "  ...\n",
      "  [24 21 23]\n",
      "  [24 21 23]\n",
      "  [24 21 23]]\n",
      "\n",
      " [[27 25 25]\n",
      "  [26 24 24]\n",
      "  [25 23 23]\n",
      "  ...\n",
      "  [24 21 23]\n",
      "  [24 21 23]\n",
      "  [24 21 23]]\n",
      "\n",
      " ...\n",
      "\n",
      " [[26 24 24]\n",
      "  [26 24 24]\n",
      "  [26 24 24]\n",
      "  ...\n",
      "  [36 34 34]\n",
      "  [36 34 34]\n",
      "  [36 34 34]]\n",
      "\n",
      " [[30 28 28]\n",
      "  [30 28 28]\n",
      "  [30 28 28]\n",
      "  ...\n",
      "  [36 34 34]\n",
      "  [36 34 34]\n",
      "  [36 34 34]]\n",
      "\n",
      " [[33 31 31]\n",
      "  [33 31 31]\n",
      "  [33 31 31]\n",
      "  ...\n",
      "  [36 34 34]\n",
      "  [36 34 34]\n",
      "  [36 34 34]]]\n"
     ]
    }
   ],
   "source": [
    "print(img)"
   ]
  },
  {
   "cell_type": "code",
   "execution_count": 17,
   "metadata": {},
   "outputs": [
    {
     "data": {
      "text/plain": [
       "array([1, 2, 3, 1, 2, 3, 1, 2, 3, 1, 2, 3])"
      ]
     },
     "execution_count": 17,
     "metadata": {},
     "output_type": "execute_result"
    }
   ],
   "source": [
    "v = np.array([1,2,3,1,2,3]) \n",
    "np.hstack((v,v))"
   ]
  },
  {
   "cell_type": "code",
   "execution_count": 18,
   "metadata": {},
   "outputs": [],
   "source": [
    "img = cv2.imread(r\"D:\\Computer-Vision\\Computer_Vision\\Images\\img1.jpg\")\n",
    "re_img = cv2.resize(img,(400,300))\n",
    "# h = np.hstack((re_img,re_img)) # Horizontal Stack \n",
    "v = np.vstack((re_img,re_img)) # Vertical Stack\n",
    "# cv2.imshow(\"Image_Window_1\",h)\n",
    "cv2.imshow(\"Image_Window_1\",v)\n",
    "cv2.waitKey(0)\n",
    "cv2.destroyAllWindows()"
   ]
  },
  {
   "cell_type": "code",
   "execution_count": 19,
   "metadata": {},
   "outputs": [],
   "source": [
    "img = cv2.imread(r\"D:\\Computer-Vision\\Computer_Vision\\Images\\img1.jpg\")\n",
    "re_img = cv2.resize(img,(300,200))\n",
    "h = np.hstack((re_img,re_img)) # Horizontal Stack \n",
    "v = np.vstack((h,h)) # Vertical Stack\n",
    "# cv2.imshow(\"Image_Window_1\",h)\n",
    "cv2.imshow(\"Image_Window_1\",v)\n",
    "cv2.waitKey(0)\n",
    "cv2.destroyAllWindows()"
   ]
  },
  {
   "cell_type": "markdown",
   "metadata": {},
   "source": [
    "**Slide Show**"
   ]
  },
  {
   "cell_type": "code",
   "execution_count": 20,
   "metadata": {},
   "outputs": [
    {
     "name": "stdout",
     "output_type": "stream",
     "text": [
      "['AI.mp4', 'Animal.jpg', 'Binary_1.jpg', 'Binary_2.jpg', 'close.png', 'ILLAHI.mp4', 'images.jpg', 'img.jpg', 'img1.jpg', 'img2.jpg', 'img3.jpg', 'img4.jpg', 'img5.jpg', 'img6.jpg', 'j.png', 'krishna.jpg', 'open.png', 'Ranbir.jpg', 'Ranbir_new.jpg', 'vid_to_img']\n"
     ]
    }
   ],
   "source": [
    "list_name = os.listdir(r\"D:\\Computer-Vision\\Computer_Vision\\Images\")\n",
    "print(list_name)"
   ]
  },
  {
   "cell_type": "code",
   "execution_count": 23,
   "metadata": {},
   "outputs": [
    {
     "ename": "error",
     "evalue": "OpenCV(4.10.0) D:\\a\\opencv-python\\opencv-python\\opencv\\modules\\highgui\\src\\window.cpp:973: error: (-215:Assertion failed) size.width>0 && size.height>0 in function 'cv::imshow'\n",
     "output_type": "error",
     "traceback": [
      "\u001b[1;31m---------------------------------------------------------------------------\u001b[0m",
      "\u001b[1;31merror\u001b[0m                                     Traceback (most recent call last)",
      "Cell \u001b[1;32mIn[23], line 5\u001b[0m\n\u001b[0;32m      3\u001b[0m     img_name \u001b[38;5;241m=\u001b[39m path \u001b[38;5;241m+\u001b[39m \u001b[38;5;124m\"\u001b[39m\u001b[38;5;130;01m\\\\\u001b[39;00m\u001b[38;5;124m\"\u001b[39m \u001b[38;5;241m+\u001b[39m name\n\u001b[0;32m      4\u001b[0m     img \u001b[38;5;241m=\u001b[39m cv2\u001b[38;5;241m.\u001b[39mimread(img_name)\n\u001b[1;32m----> 5\u001b[0m     cv2\u001b[38;5;241m.\u001b[39mimshow(\u001b[38;5;124m\"\u001b[39m\u001b[38;5;124mImage_Window_Slide\u001b[39m\u001b[38;5;124m\"\u001b[39m,img)\n\u001b[0;32m      6\u001b[0m     cv2\u001b[38;5;241m.\u001b[39mwaitKey(\u001b[38;5;241m1000\u001b[39m)\n\u001b[0;32m      7\u001b[0m cv2\u001b[38;5;241m.\u001b[39mdestroyAllWindows()\n",
      "\u001b[1;31merror\u001b[0m: OpenCV(4.10.0) D:\\a\\opencv-python\\opencv-python\\opencv\\modules\\highgui\\src\\window.cpp:973: error: (-215:Assertion failed) size.width>0 && size.height>0 in function 'cv::imshow'\n"
     ]
    }
   ],
   "source": [
    "for name in list_name:\n",
    "    path = r\"D:\\\\Computer-Vision\\\\Computer_Vision\\\\Images\" \n",
    "    img_name = path + \"\\\\\" + name\n",
    "    img = cv2.imread(img_name)\n",
    "    cv2.imshow(\"Image_Window_Slide\",img)\n",
    "    cv2.waitKey(1000)\n",
    "cv2.destroyAllWindows()   \n"
   ]
  }
 ],
 "metadata": {
  "kernelspec": {
   "display_name": "base",
   "language": "python",
   "name": "python3"
  },
  "language_info": {
   "codemirror_mode": {
    "name": "ipython",
    "version": 3
   },
   "file_extension": ".py",
   "mimetype": "text/x-python",
   "name": "python",
   "nbconvert_exporter": "python",
   "pygments_lexer": "ipython3",
   "version": "3.12.4"
  }
 },
 "nbformat": 4,
 "nbformat_minor": 2
}
