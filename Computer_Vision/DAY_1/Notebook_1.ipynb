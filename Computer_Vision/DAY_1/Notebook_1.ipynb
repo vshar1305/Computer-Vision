{
 "cells": [
  {
   "cell_type": "markdown",
   "metadata": {},
   "source": [
    "**Vertical and Horizontal Image stacking**"
   ]
  },
  {
   "cell_type": "code",
   "execution_count": 51,
   "metadata": {},
   "outputs": [],
   "source": [
    "import cv2\n",
    "import numpy as np\n",
    "import os"
   ]
  },
  {
   "cell_type": "code",
   "execution_count": 29,
   "metadata": {},
   "outputs": [],
   "source": [
    "img = cv2.imread(r\"C:\\Computer_Vision\\Images\\img.jpg\")\n",
    "re_img = cv2.resize(img,(400,300))\n",
    "cv2.imshow(\"Image_Window\",re_img)\n",
    "cv2.waitKey(0)\n",
    "cv2.destroyAllWindows()"
   ]
  },
  {
   "cell_type": "code",
   "execution_count": null,
   "metadata": {},
   "outputs": [],
   "source": [
    "print(img)"
   ]
  },
  {
   "cell_type": "code",
   "execution_count": 38,
   "metadata": {},
   "outputs": [
    {
     "data": {
      "text/plain": [
       "array([1, 2, 3, 1, 2, 3, 1, 2, 3, 1, 2, 3])"
      ]
     },
     "execution_count": 38,
     "metadata": {},
     "output_type": "execute_result"
    }
   ],
   "source": [
    "v = np.array([1,2,3,1,2,3]) \n",
    "np.hstack((v,v))"
   ]
  },
  {
   "cell_type": "code",
   "execution_count": 46,
   "metadata": {},
   "outputs": [],
   "source": [
    "img = cv2.imread(r\"C:\\Computer_Vision\\Images\\img1.jpg\")\n",
    "re_img = cv2.resize(img,(400,300))\n",
    "# h = np.hstack((re_img,re_img)) # Horizontal Stack \n",
    "v = np.vstack((re_img,re_img)) # Vertical Stack\n",
    "# cv2.imshow(\"Image_Window_1\",h)\n",
    "cv2.imshow(\"Image_Window_1\",v)\n",
    "cv2.waitKey(0)\n",
    "cv2.destroyAllWindows()"
   ]
  },
  {
   "cell_type": "code",
   "execution_count": 50,
   "metadata": {},
   "outputs": [],
   "source": [
    "img = cv2.imread(r\"C:\\Computer_Vision\\Images\\img1.jpg\")\n",
    "re_img = cv2.resize(img,(300,200))\n",
    "h = np.hstack((re_img,re_img)) # Horizontal Stack \n",
    "v = np.vstack((h,h)) # Vertical Stack\n",
    "# cv2.imshow(\"Image_Window_1\",h)\n",
    "cv2.imshow(\"Image_Window_1\",v)\n",
    "cv2.waitKey(0)\n",
    "cv2.destroyAllWindows()"
   ]
  },
  {
   "cell_type": "markdown",
   "metadata": {},
   "source": [
    "**Slide Show**"
   ]
  },
  {
   "cell_type": "code",
   "execution_count": null,
   "metadata": {},
   "outputs": [],
   "source": [
    "list_name = os.listdir(r\"C:\\Computer_Vision\\Images\")\n",
    "print(list_name)"
   ]
  },
  {
   "cell_type": "code",
   "execution_count": 59,
   "metadata": {},
   "outputs": [],
   "source": [
    "for name in list_name:\n",
    "    path = r\"C:\\\\Computer_Vision\\\\Images\" \n",
    "    img_name = path + \"\\\\\" + name\n",
    "    img = cv2.imread(img_name)\n",
    "    cv2.imshow(\"Image_Window_Slide\",img)\n",
    "    cv2.waitKey(1000)\n",
    "cv2.destroyAllWindows()   \n"
   ]
  }
 ],
 "metadata": {
  "kernelspec": {
   "display_name": "base",
   "language": "python",
   "name": "python3"
  },
  "language_info": {
   "codemirror_mode": {
    "name": "ipython",
    "version": 3
   },
   "file_extension": ".py",
   "mimetype": "text/x-python",
   "name": "python",
   "nbconvert_exporter": "python",
   "pygments_lexer": "ipython3",
   "version": "3.12.4"
  }
 },
 "nbformat": 4,
 "nbformat_minor": 2
}
