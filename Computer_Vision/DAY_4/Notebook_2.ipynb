{
 "cells": [
  {
   "cell_type": "markdown",
   "metadata": {},
   "source": [
    "**MakeBorder using OpenCV**"
   ]
  },
  {
   "cell_type": "code",
   "execution_count": 1,
   "metadata": {},
   "outputs": [],
   "source": [
    "import cv2\n",
    "import numpy as np"
   ]
  },
  {
   "cell_type": "code",
   "execution_count": 8,
   "metadata": {},
   "outputs": [],
   "source": [
    "img = cv2.imread(r\"D:\\Computer-Vision\\Computer_Vision\\Images\\Ranbir.jpg\")\n",
    "re_img = cv2.resize(img,(300,200))\n",
    "\n",
    "img_1 = cv2.copyMakeBorder(re_img,10,10,10,10,cv2.BORDER_CONSTANT,None,value=2)\n",
    "re_img_1 = cv2.resize(img_1,(300,200))\n",
    "\n",
    "img_2 = cv2.copyMakeBorder(re_img,10,10,10,10,cv2.BORDER_REFLECT,None,value=2)\n",
    "re_img_2 = cv2.resize(img_2,(300,200))\n",
    "\n",
    "img_3 = cv2.copyMakeBorder(re_img,10,10,10,10,cv2.BORDER_WRAP,None,value=2)\n",
    "re_img_3 = cv2.resize(img_3,(300,200))\n",
    "\n",
    "h =  np.hstack((re_img,re_img_1,re_img_2,re_img_3))\n",
    "\n",
    "cv2.imshow(\"Border_img\",h)\n",
    "cv2.waitKey(5000)\n",
    "cv2.destroyAllWindows()\n"
   ]
  }
 ],
 "metadata": {
  "kernelspec": {
   "display_name": "base",
   "language": "python",
   "name": "python3"
  },
  "language_info": {
   "codemirror_mode": {
    "name": "ipython",
    "version": 3
   },
   "file_extension": ".py",
   "mimetype": "text/x-python",
   "name": "python",
   "nbconvert_exporter": "python",
   "pygments_lexer": "ipython3",
   "version": "3.12.4"
  }
 },
 "nbformat": 4,
 "nbformat_minor": 2
}
