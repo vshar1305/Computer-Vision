{
 "cells": [
  {
   "cell_type": "markdown",
   "metadata": {},
   "source": [
    "**Image Pyramid using OpenCV**"
   ]
  },
  {
   "cell_type": "code",
   "execution_count": 3,
   "metadata": {},
   "outputs": [],
   "source": [
    "import cv2"
   ]
  },
  {
   "cell_type": "markdown",
   "metadata": {},
   "source": [
    "**DownScaling**"
   ]
  },
  {
   "cell_type": "code",
   "execution_count": 10,
   "metadata": {},
   "outputs": [
    {
     "name": "stdout",
     "output_type": "stream",
     "text": [
      "(450, 620, 3)\n",
      "(225, 310, 3)\n"
     ]
    }
   ],
   "source": [
    "img = cv2.imread(r\"C:\\Computer_Vision\\Images\\Ranbir.jpg\")\n",
    "\n",
    "print(img.shape)\n",
    "\n",
    "re_img_pyr = cv2.pyrDown(img)\n",
    "\n",
    "print(re_img_pyr.shape)\n",
    "\n",
    "cv2.imshow(\"Image_Pyramid_old\",img)\n",
    "cv2.imshow(\"Image_Pyramid\",re_img_pyr)\n",
    "cv2.waitKey(5000)\n",
    "cv2.destroyAllWindows()\n"
   ]
  },
  {
   "cell_type": "markdown",
   "metadata": {},
   "source": [
    "**UpScaling**"
   ]
  },
  {
   "cell_type": "code",
   "execution_count": 8,
   "metadata": {},
   "outputs": [
    {
     "name": "stdout",
     "output_type": "stream",
     "text": [
      "(900, 1240, 3)\n"
     ]
    }
   ],
   "source": [
    "img = cv2.imread(r\"C:\\Computer_Vision\\Images\\Ranbir.jpg\")\n",
    "\n",
    "print(img.shape)\n",
    "\n",
    "re_img_pyr = cv2.pyrUp(img)\n",
    "\n",
    "print(re_img_pyr.shape)\n",
    "\n",
    "cv2.imshow(\"Image_Pyramid_old\",img)\n",
    "cv2.imshow(\"Image_Pyramid\",re_img_pyr)\n",
    "cv2.waitKey(5000)\n",
    "cv2.destroyAllWindows()"
   ]
  }
 ],
 "metadata": {
  "kernelspec": {
   "display_name": "base",
   "language": "python",
   "name": "python3"
  },
  "language_info": {
   "codemirror_mode": {
    "name": "ipython",
    "version": 3
   },
   "file_extension": ".py",
   "mimetype": "text/x-python",
   "name": "python",
   "nbconvert_exporter": "python",
   "pygments_lexer": "ipython3",
   "version": "3.12.4"
  }
 },
 "nbformat": 4,
 "nbformat_minor": 2
}
