{
 "cells": [
  {
   "cell_type": "markdown",
   "metadata": {},
   "source": [
    "**Color Picker using OpenCV Python**"
   ]
  },
  {
   "cell_type": "code",
   "execution_count": 1,
   "metadata": {},
   "outputs": [],
   "source": [
    "import cv2 \n",
    "import numpy as np"
   ]
  },
  {
   "cell_type": "code",
   "execution_count": 2,
   "metadata": {},
   "outputs": [],
   "source": [
    "def trackbar(x):\n",
    "    pass"
   ]
  },
  {
   "cell_type": "code",
   "execution_count": 4,
   "metadata": {},
   "outputs": [],
   "source": [
    "img = np.zeros((500,500,3),np.uint8)*255\n",
    "cv2.namedWindow(\"color\")\n",
    "\n",
    "cv2.createTrackbar(\"R\",\"color\",0,255,trackbar)\n",
    "cv2.createTrackbar(\"G\",\"color\",0,255,trackbar)\n",
    "cv2.createTrackbar(\"B\",\"color\",0,255,trackbar)\n",
    "\n",
    "while True:\n",
    "    cv2.imshow(\"color\",img)\n",
    "    if cv2.waitKey(1) & 0xff == ord(\"p\"):\n",
    "        break\n",
    "    r = cv2.getTrackbarPos(\"R\",\"color\")\n",
    "    g = cv2.getTrackbarPos(\"G\",\"color\")\n",
    "    b = cv2.getTrackbarPos(\"B\",\"color\")\n",
    "    \n",
    "    img[:] = [b,g,r]\n",
    "\n",
    "cv2.destroyAllWindows()"
   ]
  },
  {
   "cell_type": "markdown",
   "metadata": {},
   "source": [
    "**getTrackbarPos() Function in OpenCV**"
   ]
  },
  {
   "cell_type": "code",
   "execution_count": 7,
   "metadata": {},
   "outputs": [],
   "source": [
    "img = np.zeros((500,500,3),np.uint8)*255\n",
    "cv2.namedWindow(\"bar\")\n",
    "\n",
    "cv2.createTrackbar(\"ON\",\"bar\",0,100,trackbar)\n",
    "while True:\n",
    "    cv2.imshow(\"bar\",img)\n",
    "    if cv2.waitKey(1) & 0xff == ord(\"p\"):\n",
    "        break\n",
    "    var = cv2.getTrackbarPos(\"ON\",\"bar\")\n",
    "cv2.destroyAllWindows()"
   ]
  }
 ],
 "metadata": {
  "kernelspec": {
   "display_name": "base",
   "language": "python",
   "name": "python3"
  },
  "language_info": {
   "codemirror_mode": {
    "name": "ipython",
    "version": 3
   },
   "file_extension": ".py",
   "mimetype": "text/x-python",
   "name": "python",
   "nbconvert_exporter": "python",
   "pygments_lexer": "ipython3",
   "version": "3.12.4"
  }
 },
 "nbformat": 4,
 "nbformat_minor": 2
}
