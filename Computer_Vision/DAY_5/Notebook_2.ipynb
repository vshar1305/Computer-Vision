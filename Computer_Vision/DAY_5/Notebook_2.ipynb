{
 "cells": [
  {
   "cell_type": "markdown",
   "metadata": {},
   "source": [
    "**Morphological operations using OpenCV part -  1**"
   ]
  },
  {
   "cell_type": "code",
   "execution_count": 2,
   "metadata": {},
   "outputs": [],
   "source": [
    "import cv2\n",
    "import numpy as np"
   ]
  },
  {
   "cell_type": "markdown",
   "metadata": {},
   "source": [
    "**EROSION**"
   ]
  },
  {
   "cell_type": "code",
   "execution_count": 3,
   "metadata": {},
   "outputs": [],
   "source": [
    "img = cv2.imread(r\"D:\\Computer-Vision\\Computer_Vision\\Images\\j.png\")\n",
    "re_img = cv2.resize(img,(300,300))\n",
    "\n",
    "# Masked Matrix\n",
    "\n",
    "m = np.ones((10,10),np.int8)\n",
    "\n",
    "er_img = cv2.erode(re_img,m,iterations=1)\n",
    "\n",
    "h = np.hstack((re_img,er_img))\n",
    "\n",
    "cv2.imshow(\"Morphological\",h)\n",
    "cv2.waitKey(8000)\n",
    "cv2.destroyAllWindows()"
   ]
  },
  {
   "cell_type": "markdown",
   "metadata": {},
   "source": [
    "**DILATION**"
   ]
  },
  {
   "cell_type": "code",
   "execution_count": 4,
   "metadata": {},
   "outputs": [],
   "source": [
    "img = cv2.imread(r\"D:\\Computer-Vision\\Computer_Vision\\Images\\j.png\")\n",
    "re_img = cv2.resize(img,(300,300))\n",
    "\n",
    "# Masked Matrix\n",
    "\n",
    "m = np.ones((5,5),np.int8)\n",
    "\n",
    "dl_img = cv2.dilate(re_img,m,iterations=1)\n",
    "\n",
    "h = np.hstack((re_img,dl_img))\n",
    "\n",
    "cv2.imshow(\"Morphological\",h)\n",
    "cv2.waitKey(8000)\n",
    "cv2.destroyAllWindows()"
   ]
  }
 ],
 "metadata": {
  "kernelspec": {
   "display_name": "base",
   "language": "python",
   "name": "python3"
  },
  "language_info": {
   "codemirror_mode": {
    "name": "ipython",
    "version": 3
   },
   "file_extension": ".py",
   "mimetype": "text/x-python",
   "name": "python",
   "nbconvert_exporter": "python",
   "pygments_lexer": "ipython3",
   "version": "3.12.4"
  }
 },
 "nbformat": 4,
 "nbformat_minor": 2
}
