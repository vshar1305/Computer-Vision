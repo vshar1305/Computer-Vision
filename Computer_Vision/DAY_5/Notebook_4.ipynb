{
 "cells": [
  {
   "cell_type": "code",
   "execution_count": 2,
   "metadata": {},
   "outputs": [],
   "source": [
    "import cv2\n",
    "import numpy as np"
   ]
  },
  {
   "cell_type": "markdown",
   "metadata": {},
   "source": [
    "**CLOSING**"
   ]
  },
  {
   "cell_type": "code",
   "execution_count": 3,
   "metadata": {},
   "outputs": [],
   "source": [
    "img = cv2.imread(r\"C:\\Computer_Vision\\Images\\close.png\")\n",
    "re_img = cv2.resize(img,(300,300))\n",
    "\n",
    "# Kernel Matrix\n",
    "m = np.ones((8,8),np.int8)\n",
    "\n",
    "# Does not have a direct company \n",
    "\n",
    "op = cv2.morphologyEx(re_img,cv2.MORPH_CLOSE,m,iterations=1)\n",
    "\n",
    "h = np.hstack((re_img,op))\n",
    "\n",
    "cv2.imshow(\"Close_img\",h)\n",
    "cv2.waitKey(5000)\n",
    "cv2.destroyAllWindows()"
   ]
  },
  {
   "cell_type": "markdown",
   "metadata": {},
   "source": [
    "**GRADIENT**"
   ]
  },
  {
   "cell_type": "code",
   "execution_count": 3,
   "metadata": {},
   "outputs": [],
   "source": [
    "img = cv2.imread(r\"C:\\Computer_Vision\\Images\\j.png\")\n",
    "re_img = cv2.resize(img,(300,300))\n",
    "\n",
    "# Kernel Matrix\n",
    "m = np.ones((8,8),np.int8)\n",
    "\n",
    "# Does not have a direct company \n",
    "\n",
    "gr = cv2.morphologyEx(re_img,cv2.MORPH_GRADIENT,m,iterations=1)\n",
    "\n",
    "h = np.hstack((re_img,gr))\n",
    "\n",
    "cv2.imshow(\"Close_img\",h)\n",
    "cv2.waitKey(5000)\n",
    "cv2.destroyAllWindows()"
   ]
  },
  {
   "cell_type": "markdown",
   "metadata": {},
   "source": [
    "**TOP HAT**"
   ]
  },
  {
   "cell_type": "code",
   "execution_count": 11,
   "metadata": {},
   "outputs": [],
   "source": [
    "img = cv2.imread(r\"C:\\Computer_Vision\\Images\\j.png\")\n",
    "re_img = cv2.resize(img,(300,300))\n",
    "\n",
    "# Kernel Matrix\n",
    "m = np.ones((25,25),np.int8)   \n",
    "\n",
    "# Does not have a direct company \n",
    "\n",
    "tp = cv2.morphologyEx(re_img,cv2.MORPH_TOPHAT,m,iterations=1)\n",
    "\n",
    "h = np.hstack((re_img,tp))\n",
    "\n",
    "cv2.imshow(\"Close_img\",h)\n",
    "cv2.waitKey(5000)\n",
    "cv2.destroyAllWindows()"
   ]
  },
  {
   "cell_type": "markdown",
   "metadata": {},
   "source": [
    "**BLACK HAT**"
   ]
  },
  {
   "cell_type": "code",
   "execution_count": 12,
   "metadata": {},
   "outputs": [],
   "source": [
    "img = cv2.imread(r\"C:\\Computer_Vision\\Images\\j.png\")\n",
    "re_img = cv2.resize(img,(300,300))\n",
    "\n",
    "# Kernel Matrix\n",
    "m = np.ones((40,40),np.int8)   \n",
    "\n",
    "# Does not have a direct company \n",
    "\n",
    "bh = cv2.morphologyEx(re_img,cv2.MORPH_BLACKHAT,m,iterations=1)\n",
    "\n",
    "h = np.hstack((re_img,bh))\n",
    "\n",
    "cv2.imshow(\"Close_img\",h)\n",
    "cv2.waitKey(5000)\n",
    "cv2.destroyAllWindows()"
   ]
  }
 ],
 "metadata": {
  "kernelspec": {
   "display_name": "base",
   "language": "python",
   "name": "python3"
  },
  "language_info": {
   "codemirror_mode": {
    "name": "ipython",
    "version": 3
   },
   "file_extension": ".py",
   "mimetype": "text/x-python",
   "name": "python",
   "nbconvert_exporter": "python",
   "pygments_lexer": "ipython3",
   "version": "3.12.4"
  }
 },
 "nbformat": 4,
 "nbformat_minor": 2
}
