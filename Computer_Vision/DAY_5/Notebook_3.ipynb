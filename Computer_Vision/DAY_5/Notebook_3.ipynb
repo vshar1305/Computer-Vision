{
 "cells": [
  {
   "cell_type": "markdown",
   "metadata": {},
   "source": [
    "**Morphological operations using OpenCV part -  2**"
   ]
  },
  {
   "cell_type": "code",
   "execution_count": 1,
   "metadata": {},
   "outputs": [],
   "source": [
    "import cv2\n",
    "import numpy as np"
   ]
  },
  {
   "cell_type": "markdown",
   "metadata": {},
   "source": [
    "**OPENING**"
   ]
  },
  {
   "cell_type": "code",
   "execution_count": 6,
   "metadata": {},
   "outputs": [],
   "source": [
    "img = cv2.imread(r\"D:\\Computer-Vision\\Computer_Vision\\Images\\open.png\")\n",
    "re_img = cv2.resize(img,(300,300))\n",
    "\n",
    "# Kernel Matrix\n",
    "m = np.ones((10,10),np.int8)\n",
    "\n",
    "# Does not have a direct company \n",
    "\n",
    "op = cv2.morphologyEx(re_img,cv2.MORPH_OPEN,m,iterations=1)\n",
    "\n",
    "h = np.hstack((re_img,op))\n",
    "\n",
    "cv2.imshow(\"Open_img\",h)\n",
    "cv2.waitKey(5000)\n",
    "cv2.destroyAllWindows()"
   ]
  }
 ],
 "metadata": {
  "kernelspec": {
   "display_name": "base",
   "language": "python",
   "name": "python3"
  },
  "language_info": {
   "codemirror_mode": {
    "name": "ipython",
    "version": 3
   },
   "file_extension": ".py",
   "mimetype": "text/x-python",
   "name": "python",
   "nbconvert_exporter": "python",
   "pygments_lexer": "ipython3",
   "version": "3.12.4"
  }
 },
 "nbformat": 4,
 "nbformat_minor": 2
}
