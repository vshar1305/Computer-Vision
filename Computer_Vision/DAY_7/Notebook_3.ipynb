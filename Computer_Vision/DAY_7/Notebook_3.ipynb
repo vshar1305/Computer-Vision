{
 "cells": [
  {
   "cell_type": "markdown",
   "metadata": {},
   "source": [
    "**Extract images from video using OpenCV**"
   ]
  },
  {
   "cell_type": "code",
   "execution_count": 1,
   "metadata": {},
   "outputs": [],
   "source": [
    "import cv2"
   ]
  },
  {
   "cell_type": "code",
   "execution_count": 7,
   "metadata": {},
   "outputs": [],
   "source": [
    "org_vid = cv2.VideoCapture(r\"C:\\Computer_Vision\\Images\\ILLAHI.mp4\")\n",
    "c=0\n",
    "while(True):\n",
    "    r,frame = org_vid.read()   \n",
    "    if r == True:    \n",
    "        filename = \"C://Computer_Vision//Images//vid_to_img//org_img\"+str(c)+\".png\"\n",
    "        cv2.imwrite(filename,frame)\n",
    "        cv2.imshow(\"img_vid\",frame)\n",
    "        c = c+1\n",
    "        if cv2.waitKey(25) & 0xff == ord(\"p\"):\n",
    "            break\n",
    "    else:\n",
    "        break\n",
    "org_vid.release()\n",
    "cv2.destroyAllWindows()"
   ]
  }
 ],
 "metadata": {
  "kernelspec": {
   "display_name": "base",
   "language": "python",
   "name": "python3"
  },
  "language_info": {
   "codemirror_mode": {
    "name": "ipython",
    "version": 3
   },
   "file_extension": ".py",
   "mimetype": "text/x-python",
   "name": "python",
   "nbconvert_exporter": "python",
   "pygments_lexer": "ipython3",
   "version": "3.12.4"
  }
 },
 "nbformat": 4,
 "nbformat_minor": 2
}
