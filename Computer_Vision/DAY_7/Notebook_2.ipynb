{
 "cells": [
  {
   "cell_type": "markdown",
   "metadata": {},
   "source": [
    "**Background subtraction using OpenCV**"
   ]
  },
  {
   "cell_type": "code",
   "execution_count": 1,
   "metadata": {},
   "outputs": [],
   "source": [
    "import cv2"
   ]
  },
  {
   "cell_type": "code",
   "execution_count": 8,
   "metadata": {},
   "outputs": [],
   "source": [
    "org_v = cv2.VideoCapture(r\"C:\\Computer_Vision\\Images\\AI.mp4\")\n",
    "\n",
    "# Subtract background\n",
    "\n",
    "sub_m = cv2.createBackgroundSubtractorMOG2()\n",
    "while (True):\n",
    "    r,frame = org_v.read()\n",
    "    if r == True:\n",
    "        re_frame = cv2.resize(frame,(400,300))\n",
    "        sub_v = sub_m.apply(re_frame)\n",
    "        cv2.imshow(\"org_vid\",re_frame)\n",
    "        cv2.imshow(\"sub_vid\",sub_v)\n",
    "        if cv2.waitKey(25) & 0xff == ord(\"p\"):\n",
    "            break\n",
    "    else:\n",
    "        break\n",
    "org_v.release()\n",
    "cv2.destroyAllWindows()"
   ]
  }
 ],
 "metadata": {
  "kernelspec": {
   "display_name": "base",
   "language": "python",
   "name": "python3"
  },
  "language_info": {
   "codemirror_mode": {
    "name": "ipython",
    "version": 3
   },
   "file_extension": ".py",
   "mimetype": "text/x-python",
   "name": "python",
   "nbconvert_exporter": "python",
   "pygments_lexer": "ipython3",
   "version": "3.12.4"
  }
 },
 "nbformat": 4,
 "nbformat_minor": 2
}
