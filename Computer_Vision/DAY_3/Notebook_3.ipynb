{
 "cells": [
  {
   "cell_type": "markdown",
   "metadata": {},
   "source": [
    "**Image Scaling, Rotating using OpenCV**"
   ]
  },
  {
   "cell_type": "code",
   "execution_count": 3,
   "metadata": {},
   "outputs": [],
   "source": [
    "import cv2\n",
    "import numpy as np"
   ]
  },
  {
   "cell_type": "code",
   "execution_count": 6,
   "metadata": {},
   "outputs": [],
   "source": [
    "org_img = cv2.imread(r\"D:\\Computer-Vision\\Computer_Vision\\Images\\Ranbir.jpg\")\n",
    "re_img = cv2.resize(org_img,(500,500))\n",
    "cv2.imshow(\"Orignal_Img\",org_img)\n",
    "cv2.imshow(\"Resize_Img\",re_img)\n",
    "cv2.waitKey(0)\n",
    "cv2.destroyAllWindows()\n"
   ]
  },
  {
   "cell_type": "code",
   "execution_count": 14,
   "metadata": {},
   "outputs": [],
   "source": [
    "org_img = cv2.imread(r\"D:\\Computer-Vision\\Computer_Vision\\Images\\Ranbir.jpg\")\n",
    "re_img = cv2.resize(org_img,(500,500))\n",
    "w,h = re_img.shape[0],re_img.shape[1]\n",
    "w,h\n",
    "\n",
    "m = cv2.getRotationMatrix2D(center=(w/2,h/2),angle=90,scale=1)\n",
    "m\n",
    "\n",
    "new_img = cv2.warpAffine(src=re_img,M=m,dsize=(w,h))\n",
    "\n",
    "h = np.hstack((re_img,new_img))\n",
    "\n",
    "cv2.imshow(\"Rotate_Window\",h)\n",
    "cv2.waitKey(8000)\n",
    "cv2.destroyAllWindows()\n"
   ]
  }
 ],
 "metadata": {
  "kernelspec": {
   "display_name": "base",
   "language": "python",
   "name": "python3"
  },
  "language_info": {
   "codemirror_mode": {
    "name": "ipython",
    "version": 3
   },
   "file_extension": ".py",
   "mimetype": "text/x-python",
   "name": "python",
   "nbconvert_exporter": "python",
   "pygments_lexer": "ipython3",
   "version": "3.12.4"
  }
 },
 "nbformat": 4,
 "nbformat_minor": 2
}
