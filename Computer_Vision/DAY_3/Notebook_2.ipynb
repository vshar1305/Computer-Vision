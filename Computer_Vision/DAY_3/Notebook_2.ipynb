{
 "cells": [
  {
   "cell_type": "markdown",
   "metadata": {},
   "source": [
    "**Edge detection in an Image using OpenCV**"
   ]
  },
  {
   "cell_type": "code",
   "execution_count": 1,
   "metadata": {},
   "outputs": [],
   "source": [
    "import cv2\n",
    "import numpy as np"
   ]
  },
  {
   "cell_type": "code",
   "execution_count": 15,
   "metadata": {},
   "outputs": [
    {
     "name": "stdout",
     "output_type": "stream",
     "text": [
      "(400, 400, 3)\n",
      "(400, 400)\n"
     ]
    }
   ],
   "source": [
    "img = cv2.imread(r\"C:\\Computer_Vision\\Images\\Ranbir.jpg\")\n",
    "\n",
    "re_img = cv2.resize(img,(400,400))\n",
    "print(re_img.shape)\n",
    "\n",
    "new_img = cv2.Canny(image=re_img,threshold1=100,threshold2=100,apertureSize=3,L2gradient=True)\n",
    "print(new_img.shape)\n",
    "\n",
    "\n",
    "cv2.imshow(\"Orignal_img\",re_img)\n",
    "cv2.imshow(\"Edges_img\",new_img)\n",
    "cv2.waitKey(5000)\n",
    "cv2.destroyAllWindows()"
   ]
  }
 ],
 "metadata": {
  "kernelspec": {
   "display_name": "base",
   "language": "python",
   "name": "python3"
  },
  "language_info": {
   "codemirror_mode": {
    "name": "ipython",
    "version": 3
   },
   "file_extension": ".py",
   "mimetype": "text/x-python",
   "name": "python",
   "nbconvert_exporter": "python",
   "pygments_lexer": "ipython3",
   "version": "3.12.4"
  }
 },
 "nbformat": 4,
 "nbformat_minor": 2
}
