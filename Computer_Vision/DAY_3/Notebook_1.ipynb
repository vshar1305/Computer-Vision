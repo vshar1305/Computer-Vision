{
 "cells": [
  {
   "cell_type": "markdown",
   "metadata": {},
   "source": [
    "**Arithmetic Operations on Images using OpenCV (Bitwise Operations on Binary Images)**"
   ]
  },
  {
   "cell_type": "markdown",
   "metadata": {},
   "source": [
    "**Orignal Code**"
   ]
  },
  {
   "cell_type": "code",
   "execution_count": 1,
   "metadata": {},
   "outputs": [],
   "source": [
    "import cv2 \n",
    "import numpy as np"
   ]
  },
  {
   "cell_type": "code",
   "execution_count": 2,
   "metadata": {},
   "outputs": [],
   "source": [
    "img_1 = cv2.imread(r\"D:\\Computer-Vision\\Computer_Vision\\Images\\Binary_1.jpg\")\n",
    "img_2 = cv2.imread(r\"D:\\Computer-Vision\\Computer_Vision\\Images\\Binary_2.jpg\")\n",
    "\n",
    "re_img_1 = cv2.resize(img_1,(300,300))\n",
    "re_img_2 = cv2.resize(img_2,(300,300))\n",
    "\n",
    "# And Operator \n",
    "new_and = cv2.bitwise_and(src1=re_img_1,src2=re_img_2)\n",
    "\n",
    "# Or Operator\n",
    "new_Or = cv2.bitwise_or(src1=re_img_1,src2=re_img_2)\n",
    "\n",
    "# ExOr Operator\n",
    "new_ExOr = cv2.bitwise_xor(src1=re_img_1,src2=re_img_2)\n",
    "\n",
    "h_and = np.hstack((re_img_1,re_img_2,new_and))\n",
    "h_Or = np.hstack((re_img_1,re_img_2,new_Or))\n",
    "h_ExOr = np.hstack((re_img_1,re_img_2,new_ExOr))\n",
    "\n",
    "cv2.imshow(\"and_binary_image\",h_and)\n",
    "cv2.imshow(\"Or_binary_image\",h_Or)\n",
    "cv2.imshow(\"ExOr\",h_ExOr)\n",
    "\n",
    "cv2.waitKey(5000)\n",
    "cv2.destroyAllWindows()"
   ]
  },
  {
   "cell_type": "markdown",
   "metadata": {},
   "source": [
    "**Same Compressed Code Ver_1**"
   ]
  },
  {
   "cell_type": "code",
   "execution_count": 3,
   "metadata": {},
   "outputs": [],
   "source": [
    "import cv2\n",
    "import numpy as np\n",
    "\n",
    "def show_images_in_sequence(img1_path, img2_path):\n",
    "    img_1 = cv2.imread(img1_path)\n",
    "    img_2 = cv2.imread(img2_path)\n",
    "\n",
    "    re_img_1 = cv2.resize(img_1, (300, 300))\n",
    "    re_img_2 = cv2.resize(img_2, (300, 300))\n",
    "\n",
    "    operations = {\n",
    "        \"AND\": cv2.bitwise_and(re_img_1, re_img_2),\n",
    "        \"OR\": cv2.bitwise_or(re_img_1, re_img_2),\n",
    "        \"XOR\": cv2.bitwise_xor(re_img_1, re_img_2)\n",
    "    }\n",
    "\n",
    "    for op_name, result in operations.items():\n",
    "        combined = np.hstack((re_img_1, re_img_2, result))\n",
    "        cv2.imshow(f\"{op_name}_binary_image\", combined)\n",
    "        cv2.waitKey(5000)\n",
    "        cv2.destroyAllWindows()\n",
    "\n",
    "# Use the function\n",
    "show_images_in_sequence(r\"D:\\Computer-Vision\\Computer_Vision\\Images\\Binary_1.jpg\", \n",
    "                        r\"D:\\Computer-Vision\\Computer_Vision\\Images\\Binary_2.jpg\")\n"
   ]
  },
  {
   "cell_type": "markdown",
   "metadata": {},
   "source": [
    "**Same Compressed Code Ver_2**"
   ]
  },
  {
   "cell_type": "code",
   "execution_count": 4,
   "metadata": {},
   "outputs": [],
   "source": [
    "import cv2\n",
    "import numpy as np\n",
    "\n",
    "def show_images_in_sequence(img1_path, img2_path):\n",
    "    img1 = cv2.resize(cv2.imread(img1_path), (300, 300))\n",
    "    img2 = cv2.resize(cv2.imread(img2_path), (300, 300))\n",
    "\n",
    "    for op, name in [(cv2.bitwise_and, \"AND\"), \n",
    "                     (cv2.bitwise_or, \"OR\"), \n",
    "                     (cv2.bitwise_xor, \"XOR\")]:\n",
    "        cv2.imshow(f\"{name}_binary_image\", np.hstack((img1, img2, op(img1, img2))))\n",
    "        cv2.waitKey(5000)\n",
    "        cv2.destroyAllWindows()\n",
    "\n",
    "show_images_in_sequence(r\"D:\\Computer-Vision\\Computer_Vision\\Images\\Binary_1.jpg\", \n",
    "                        r\"D:\\Computer-Vision\\Computer_Vision\\Images\\Binary_2.jpg\")\n"
   ]
  },
  {
   "cell_type": "markdown",
   "metadata": {},
   "source": [
    "**Bitwise NOT**"
   ]
  },
  {
   "cell_type": "code",
   "execution_count": 28,
   "metadata": {},
   "outputs": [],
   "source": [
    "img_1 = cv2.imread(r\"D:\\Computer-Vision\\Computer_Vision\\Images\\Binary_1.jpg\")\n",
    "img_2 = cv2.imread(r\"D:\\Computer-Vision\\Computer_Vision\\Images\\Binary_2.jpg\")\n",
    "\n",
    "re_img_1 = cv2.resize(img_1,(300,300))\n",
    "re_img_2 = cv2.resize(img_2,(300,300))\n",
    "\n",
    "# NOT Operator \n",
    "new_not_1 = cv2.bitwise_not(re_img_1)\n",
    "new_not_2 = cv2.bitwise_not(re_img_2)\n",
    "\n",
    "# Horizontal Stacks\n",
    "h_1 = np.hstack((re_img_1,new_not_1))\n",
    "h_2 = np.hstack((re_img_2,new_not_2))\n",
    "\n",
    "# Vertical Stack\n",
    "\n",
    "v = np.vstack((h_1,h_2))\n",
    "\n",
    "cv2.imshow(\"NOT\",v)\n",
    "\n",
    "cv2.waitKey(5000)\n",
    "cv2.destroyAllWindows()\n"
   ]
  }
 ],
 "metadata": {
  "kernelspec": {
   "display_name": "base",
   "language": "python",
   "name": "python3"
  },
  "language_info": {
   "codemirror_mode": {
    "name": "ipython",
    "version": 3
   },
   "file_extension": ".py",
   "mimetype": "text/x-python",
   "name": "python",
   "nbconvert_exporter": "python",
   "pygments_lexer": "ipython3",
   "version": "3.12.4"
  }
 },
 "nbformat": 4,
 "nbformat_minor": 2
}
