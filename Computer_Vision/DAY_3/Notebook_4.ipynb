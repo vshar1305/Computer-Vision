{
 "cells": [
  {
   "cell_type": "markdown",
   "metadata": {},
   "source": [
    "**Image blurring using OpenCV**"
   ]
  },
  {
   "cell_type": "code",
   "execution_count": 11,
   "metadata": {},
   "outputs": [],
   "source": [
    "import cv2\n",
    "import numpy as np"
   ]
  },
  {
   "cell_type": "code",
   "execution_count": 10,
   "metadata": {},
   "outputs": [],
   "source": [
    "org_img = cv2.imread(r\"C:\\Computer_Vision\\Images\\Ranbir.jpg\")\n",
    "re_img = cv2.resize(org_img,(500,400))\n",
    "cv2.imshow(\"Img_window\",re_img)\n",
    "cv2.waitKey(8000)\n",
    "cv2.destroyAllWindows()"
   ]
  },
  {
   "cell_type": "code",
   "execution_count": 15,
   "metadata": {},
   "outputs": [],
   "source": [
    "org_img = cv2.imread(r\"C:\\Computer_Vision\\Images\\Ranbir.jpg\")\n",
    "re_img = cv2.resize(org_img,(300,200))\n",
    "\n",
    "\n",
    "# Gausian blur\n",
    "g = cv2.GaussianBlur(re_img,(5,5),0)\n",
    "\n",
    "# Median Blur\n",
    "\n",
    "m = cv2.medianBlur(re_img,3)\n",
    "\n",
    "# Bilateral Filter\n",
    "\n",
    "b = cv2.bilateralFilter(re_img,10,75,75)\n",
    "\n",
    "h =np.hstack((re_img,g,m,b))\n",
    "\n",
    "cv2.imshow(\"Img_window\",h)\n",
    "cv2.waitKey(5000)\n",
    "cv2.destroyAllWindows()"
   ]
  }
 ],
 "metadata": {
  "kernelspec": {
   "display_name": "base",
   "language": "python",
   "name": "python3"
  },
  "language_info": {
   "codemirror_mode": {
    "name": "ipython",
    "version": 3
   },
   "file_extension": ".py",
   "mimetype": "text/x-python",
   "name": "python",
   "nbconvert_exporter": "python",
   "pygments_lexer": "ipython3",
   "version": "3.12.4"
  }
 },
 "nbformat": 4,
 "nbformat_minor": 2
}
