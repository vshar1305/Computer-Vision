{
 "cells": [
  {
   "cell_type": "code",
   "execution_count": 1,
   "metadata": {},
   "outputs": [],
   "source": [
    "import cv2"
   ]
  },
  {
   "cell_type": "markdown",
   "metadata": {},
   "source": [
    "**Adding Line**"
   ]
  },
  {
   "cell_type": "code",
   "execution_count": 21,
   "metadata": {},
   "outputs": [],
   "source": [
    "img = cv2.imread(r\"C:\\Computer_Vision\\Images\\Ranbir.jpg\")\n",
    "re_img = cv2.resize(img,(500,400))\n",
    "new_img = cv2.line(img = re_img ,pt1 = (190,60), pt2 = (300,60), color = (0,255,0),thickness = 2,lineType = 4) \n",
    "cv2.imshow(\"Image_Windows\",new_img) \n",
    "cv2.waitKey(5000)\n",
    "cv2.destroyAllWindows()"
   ]
  },
  {
   "cell_type": "markdown",
   "metadata": {},
   "source": [
    "**Adding rectangle**"
   ]
  },
  {
   "cell_type": "code",
   "execution_count": 27,
   "metadata": {},
   "outputs": [],
   "source": [
    "img = cv2.imread(r\"C:\\Computer_Vision\\Images\\Ranbir.jpg\")\n",
    "re_img = cv2.resize(img,(500,400))\n",
    "new_img = cv2.rectangle(img = re_img,pt1 = (190,60),pt2 = (300,220),color = (0,255,0),thickness = 2,lineType = 4)\n",
    "cv2.imshow(\"Image_Windows\",new_img) \n",
    "cv2.waitKey(5000)\n",
    "cv2.destroyAllWindows()"
   ]
  },
  {
   "cell_type": "markdown",
   "metadata": {},
   "source": [
    "**Adding text to this rectangle**"
   ]
  },
  {
   "cell_type": "code",
   "execution_count": 46,
   "metadata": {},
   "outputs": [],
   "source": [
    "img = cv2.imread(r\"C:\\Computer_Vision\\Images\\Ranbir.jpg\")\n",
    "re_img = cv2.resize(img,(500,400))\n",
    "new_img = cv2.rectangle(img = re_img,pt1 = (190,60),pt2 = (300,220),color = (0,255,0),thickness = 2,lineType = 4)\n",
    "txt_img = cv2.putText(img = new_img,text = \"Ranbir Kapoor\", \n",
    "                     org = (150,50),fontFace = 1,\n",
    "                     fontScale = 1,color = (0,255,0),thickness = 1 ,\n",
    "                     lineType = 16,bottomLeftOrigin = False)\n",
    "cv2.imshow(\"Image_Windows\",txt_img) \n",
    "cv2.waitKey(5000)\n",
    "cv2.destroyAllWindows()"
   ]
  }
 ],
 "metadata": {
  "kernelspec": {
   "display_name": "base",
   "language": "python",
   "name": "python3"
  },
  "language_info": {
   "codemirror_mode": {
    "name": "ipython",
    "version": 3
   },
   "file_extension": ".py",
   "mimetype": "text/x-python",
   "name": "python",
   "nbconvert_exporter": "python",
   "pygments_lexer": "ipython3",
   "version": "3.12.4"
  }
 },
 "nbformat": 4,
 "nbformat_minor": 2
}
