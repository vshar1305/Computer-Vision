{
 "cells": [
  {
   "cell_type": "code",
   "execution_count": 1,
   "metadata": {},
   "outputs": [],
   "source": [
    "import cv2\n",
    "import numpy as np"
   ]
  },
  {
   "cell_type": "markdown",
   "metadata": {},
   "source": [
    "**Circle on Image**"
   ]
  },
  {
   "cell_type": "code",
   "execution_count": 2,
   "metadata": {},
   "outputs": [],
   "source": [
    "img = cv2.imread(r\"D:\\Computer-Vision\\Computer_Vision\\Images\\Ranbir.jpg\")\n",
    "re_img = cv2.resize(img,(500,400))\n",
    "new_img = cv2.circle(img = re_img,center = (240,140),radius = 90,color = (0,255,0), thickness = 4, lineType = 16)\n",
    "txt_img = cv2.putText(img = new_img,text = \"Ranbir Kapoor\", \n",
    "                     org = (120,45),fontFace = 1,\n",
    "                     fontScale = 1,color = (0,255,0),thickness = 1 ,\n",
    "                     lineType = 16,bottomLeftOrigin = False)\n",
    "cv2.imshow(\"Image_Windows\",txt_img) \n",
    "cv2.waitKey(5000)\n",
    "cv2.destroyAllWindows()"
   ]
  },
  {
   "cell_type": "markdown",
   "metadata": {},
   "source": [
    "**Elipse on Image**"
   ]
  },
  {
   "cell_type": "code",
   "execution_count": 3,
   "metadata": {},
   "outputs": [],
   "source": [
    "img = cv2.imread(r\"D:\\Computer-Vision\\Computer_Vision\\Images\\Ranbir.jpg\")\n",
    "re_img = cv2.resize(img,(500,400))\n",
    "new_img = cv2.ellipse(img =re_img,center=(240,140),axes=(60,90),angle=15,startAngle=0,endAngle=360,color=(0,255,0),thickness=4,lineType=16 )\n",
    "txt_img = cv2.putText(img = new_img,text = \"Ranbir Kapoor\", \n",
    "                     org = (120,50),fontFace = 1,\n",
    "                     fontScale = 1,color = (0,255,0),thickness = 1 ,\n",
    "                     lineType = 16,bottomLeftOrigin = False)\n",
    "cv2.imshow(\"Image_Windows\",txt_img) \n",
    "cv2.waitKey(5000)\n",
    "cv2.destroyAllWindows()"
   ]
  },
  {
   "cell_type": "markdown",
   "metadata": {},
   "source": [
    "**Polygon on Image**"
   ]
  },
  {
   "cell_type": "code",
   "execution_count": 4,
   "metadata": {},
   "outputs": [],
   "source": [
    "img = cv2.imread(r\"D:\\Computer-Vision\\Computer_Vision\\Images\\Ranbir.jpg\")\n",
    "re_img = cv2.resize(img,(500,400))\n",
    "new_img = cv2.polylines(img = re_img,pts = [np.array([[100,90],[80,120],[140,120],[300,180],[320,180]])],\n",
    "                        isClosed = True,color = (0,255,0),thickness = 4,lineType = 16) #doubtful\n",
    "cv2.imshow(\"Image_Window\",new_img)\n",
    "cv2.waitKey(5000)\n",
    "cv2.destroyAllWindows()"
   ]
  }
 ],
 "metadata": {
  "kernelspec": {
   "display_name": "base",
   "language": "python",
   "name": "python3"
  },
  "language_info": {
   "codemirror_mode": {
    "name": "ipython",
    "version": 3
   },
   "file_extension": ".py",
   "mimetype": "text/x-python",
   "name": "python",
   "nbconvert_exporter": "python",
   "pygments_lexer": "ipython3",
   "version": "3.12.4"
  }
 },
 "nbformat": 4,
 "nbformat_minor": 2
}
