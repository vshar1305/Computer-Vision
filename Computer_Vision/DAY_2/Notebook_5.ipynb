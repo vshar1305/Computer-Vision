{
 "cells": [
  {
   "cell_type": "markdown",
   "metadata": {},
   "source": [
    "**Arithmetic Operations on Images using OpenCV (Addition and Subtraction)**"
   ]
  },
  {
   "cell_type": "code",
   "execution_count": 2,
   "metadata": {},
   "outputs": [],
   "source": [
    "import cv2"
   ]
  },
  {
   "cell_type": "code",
   "execution_count": 3,
   "metadata": {},
   "outputs": [],
   "source": [
    "img_1 = cv2.imread(r\"D:\\Computer-Vision\\Computer_Vision\\Images\\Ranbir.jpg\")\n",
    "img_2 = cv2.imread(r\"D:\\Computer-Vision\\Computer_Vision\\Images\\Animal.jpg\")\n",
    "\n",
    "re_img_1 = cv2.resize(img_1,(500,400))\n",
    "re_img_2 = cv2.resize(img_2,(500,400))\n",
    "\n",
    "# Adding of Image\n",
    "new_img_1 = cv2.addWeighted(src1=re_img_1,alpha=1,src2=re_img_2,beta=0.5,gamma=1)\n",
    "cv2.imshow(\"Ranbir_Animal_Window\",new_img_1)\n",
    "\n",
    "# Substraction of Image\n",
    "new_img_2 = cv2.subtract(src1=re_img_1,src2=re_img_2)\n",
    "cv2.imshow(\"Ranbir_Animal_Window_2\",new_img_2)\n",
    "\n",
    "cv2.waitKey(8000)\n",
    "cv2.destroyAllWindows()"
   ]
  }
 ],
 "metadata": {
  "kernelspec": {
   "display_name": "base",
   "language": "python",
   "name": "python3"
  },
  "language_info": {
   "codemirror_mode": {
    "name": "ipython",
    "version": 3
   },
   "file_extension": ".py",
   "mimetype": "text/x-python",
   "name": "python",
   "nbconvert_exporter": "python",
   "pygments_lexer": "ipython3",
   "version": "3.12.4"
  }
 },
 "nbformat": 4,
 "nbformat_minor": 2
}
