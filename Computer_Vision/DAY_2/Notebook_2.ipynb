{
 "cells": [
  {
   "cell_type": "markdown",
   "metadata": {},
   "source": [
    "**Text on image**"
   ]
  },
  {
   "cell_type": "code",
   "execution_count": 1,
   "metadata": {},
   "outputs": [],
   "source": [
    "import cv2\n",
    "import numpy as np"
   ]
  },
  {
   "cell_type": "code",
   "execution_count": 32,
   "metadata": {},
   "outputs": [],
   "source": [
    "img_get = cv2.imread(r\"C:\\\\Computer_Vision\\\\Images\\\\krishna.jpg\")\n",
    "re_img = cv2.resize(img_get,(600,400))\n",
    "txt = cv2.putText(img = re_img,\n",
    "                text = \"Radhe-Radhe\",\n",
    "                org = (70,320),\n",
    "                fontFace = cv2.FONT_HERSHEY_DUPLEX,\n",
    "                fontScale = 2,\n",
    "                color = (0,255,0),\n",
    "                thickness = 2,\n",
    "                lineType = cv2.LINE_4,\n",
    "                bottomLeftOrigin= False)\n",
    "txt_mir = cv2.putText(img = re_img,\n",
    "                text = \"Radhe-Radhe\",\n",
    "                org = (70,325),\n",
    "                fontFace = cv2.FONT_HERSHEY_DUPLEX,\n",
    "                fontScale = 2,\n",
    "                color = (0,0,255),\n",
    "                thickness = 2,\n",
    "                lineType = cv2.LINE_4,\n",
    "                bottomLeftOrigin= True)\n",
    "cv2.imshow(\"Krishna_Image\",re_img)\n",
    "cv2.waitKey(5000)\n",
    "cv2.destroyAllWindows()"
   ]
  }
 ],
 "metadata": {
  "kernelspec": {
   "display_name": "base",
   "language": "python",
   "name": "python3"
  },
  "language_info": {
   "codemirror_mode": {
    "name": "ipython",
    "version": 3
   },
   "file_extension": ".py",
   "mimetype": "text/x-python",
   "name": "python",
   "nbconvert_exporter": "python",
   "pygments_lexer": "ipython3",
   "version": "3.12.4"
  }
 },
 "nbformat": 4,
 "nbformat_minor": 2
}
